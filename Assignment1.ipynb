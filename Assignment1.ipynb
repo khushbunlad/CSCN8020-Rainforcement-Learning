{
 "cells": [
  {
   "cell_type": "markdown",
   "metadata": {},
   "source": [
    "### Assignment 1 : Reinforcement Learning Programming - CSCN8020"
   ]
  },
  {
   "cell_type": "markdown",
   "metadata": {},
   "source": [
    "### Problem 1\n",
    "***Pick-and-Place Robot***: Consider using reinforcement learning to control the motion of a robot arm\n",
    "in a repetitive pick-and-place task. If we want to learn movements that are fast and smooth, the\n",
    "learning agent will have to control the motors directly and obtain feedback about the current positions\n",
    "and velocities of the mechanical linkages.\n",
    "Design the reinforcement learning problem as an MDP, define states, actions, rewards with reasoning."
   ]
  },
  {
   "cell_type": "markdown",
   "metadata": {},
   "source": [
    "##### States"
   ]
  },
  {
   "cell_type": "markdown",
   "metadata": {},
   "source": [
    "1. **Initialize** <br>\n",
    "- For the robotic arm, when it is powered on, It should validate if all the joints for movement and griper to hold the object are working properly. \n",
    "- It should also validate surrounding environment if there is any obstacles are available or not. If there is any object, it should calibrate the configuration that does not damage the arm during the movement\n",
    "\n",
    "2. **Display Warning** <br>\n",
    "- During the initialization, if any issue is found in configuration or calibration, It should display warning the operator / monitoring system / monitoring authority.\n",
    "\n",
    "3. **Ready**<br>\n",
    "- When robot has passed all initialization steps successfully and ready to perform its tasks. \n",
    "- Identify where gripper of robotic arm is located currently.\n",
    "- Check if gripper already hold object or not\n",
    "\n",
    "4. **Scan for object**<br>\n",
    "- Scan for the object to pick up\n",
    "- If more than one object is found, Choose closest one\n",
    "- Once object is selected, validate its dimension if it can be fixed in gripper.\n",
    "\n",
    "5. **Pick object**<br>\n",
    "- Calculate distance from current arm position to object \n",
    "- Create movement strategy to move the arm towards the object\n",
    "- Pick the object \n",
    "\n",
    "6. **Drop Object**\n",
    "- \n",
    "\n",
    "8. **Display Error**\n",
    "- In failure of performing any actions, display error\n",
    "\n"
   ]
  },
  {
   "cell_type": "markdown",
   "metadata": {},
   "source": [
    "### Problem 2"
   ]
  },
  {
   "attachments": {
    "image.png": {
     "image/png": "[encoded data removed]"
    }
   },
   "cell_type": "markdown",
   "metadata": {},
   "source": [
    "**2x2 Gridworld**\n",
    "Consider a 2x2 gridworld with the following characteristics:\n",
    "<br>\n",
    "<br>\n",
    "**State Space (S)**: s1, s2, s3, s4.\n",
    "<br>\n",
    "\n",
    "**Action Space (A)**: up, down, left, right.\n",
    "\n",
    "**Initial Policy (π):** \n",
    "For all states, π(up|s) = 1.\n",
    "\n",
    "**Transition Probabilities P(s′|s, a):**\n",
    "- If the action is valid (does not run into a wall), the transition is deterministic.\n",
    "- Otherwise, s′ = s.\n",
    "\n",
    "**Rewards R(s):**\n",
    "- R(s1) = 5 for all actions a.\n",
    "- R(s2) = 10 for all actions a.\n",
    "- R(s3) = 1 for all actions a.\n",
    "- R(s4) = 2 for all actions a.\n",
    "<br>\n",
    "![image.png](attachment:image.png)"
   ]
  },
  {
   "cell_type": "markdown",
   "metadata": {},
   "source": [
    "##### Considerations"
   ]
  },
  {
   "cell_type": "markdown",
   "metadata": {},
   "source": [
    "1. **Discount Factor (γ)**: Assume γ = 1\n",
    "2. **Initialize** value function with **0** for all states\n",
    "<br/>\n",
    "V(S<sub>1</sub>) = V(S<sub>2</sub>) = V(S<sub>3</sub>) = V(S<sub>4</sub>) = 0\n",
    "\n",
    "3. For all states, **π(up|s) = 1** means that agent always takes the **up** action\n",
    "4. We will be using **Bellmen's Equation** to calculate value function updates\n",
    "<br/>\n",
    "$$\n",
    "V^*(s) = \\max_a \\sum_{s'} P(s' | s, a) \\left[ R(s, a, s') + \\gamma V^*(s') \\right]\n",
    "$$"
   ]
  },
  {
   "cell_type": "markdown",
   "metadata": {},
   "source": [
    "##### Initial State\n",
    "As considered, in initial state, value function for all state is 0\n",
    "\n",
    "V(S<sub>1</sub>) = V(S<sub>2</sub>) = V(S<sub>3</sub>) = V(S<sub>4</sub>) = 0\n",
    "\n",
    "- As, all actions in initial policy is **up**, ( 𝜋(up∣𝑠)=1 ), In iteration 1, Update the value function considering action **up**\n",
    "##### Iteration 1\n",
    "\n",
    "- Using the Bellman equation for each state, we compute the new value function for each state\n",
    "\n",
    "V<sub>1</sub>(S<sub>1</sub>) = R(S<sub>1</sub>) + γV<sub>0</sub>(S<sub>1</sub>) <br/>\n",
    "= 5 + (1 × V<sub>0</sub>(S<sub>1</sub>))<br/>\n",
    "​= 5 + 0<br/>\n",
    "= 5<br/>\n",
    "\n",
    "V<sub>1</sub>(S<sub>2</sub>)  = R(S<sub>2</sub>) + γV<sub>0</sub>(S<sub>2</sub>)<br/>\n",
    "= 10 + (1 × V<sub>0</sub>(S<sub>2</sub>))<br/>\n",
    "​= 10 + 0<br/>\n",
    "= 10<br/>\n",
    "\n",
    "V<sub>1</sub>(S<sub>3</sub>)  = R(S<sub>3</sub>) + γV<sub>0</sub>(S<sub>3</sub>)<br/>\n",
    "= 1 + (1 × V<sub>0</sub>(S<sub>3</sub>))<br/>\n",
    "​= 1 + 0<br/>\n",
    "= 1<br/>\n",
    "\n",
    "V<sub>1</sub>(S<sub>4</sub>)  = R(S<sub>4</sub>) + γV<sub>0</sub>(S<sub>4</sub>)<br/>\n",
    "= 2 + (1 × V<sub>0</sub>(S<sub>4</sub>))<br/>\n",
    "​= 2 + 0<br/>\n",
    "= 2<br/>\n",
    "\n",
    "##### Iteration 2\n",
    "\n",
    "V<sub>2</sub>(S<sub>1</sub>) = R(S<sub>1</sub>) + γV<sub>1</sub>(S<sub>1</sub>)<br/>\n",
    "= 5 + (1 × V<sub>1</sub>(S<sub>1</sub>))<br/>\n",
    "​= 5 + 5<br/>\n",
    "= 10<br/>\n",
    "\n",
    "V<sub>2</sub>(S<sub>2</sub>) = R(S<sub>2</sub>) + γV<sub>1</sub>(S<sub>2</sub>)<br/>\n",
    "= 10 + (1 × V<sub>1</sub>(S<sub>2</sub>))<br/>\n",
    "​= 10 + 10<br/>\n",
    "= 20<br/>\n",
    "\n",
    "V<sub>2</sub>(S<sub>3</sub>) = R(S<sub>3</sub>) + γV<sub>1</sub>(S<sub>3</sub>) <br/>\n",
    "= 1 + (1 × V<sub>1</sub>(S<sub>3</sub>))<br/>\n",
    "​= 1 + 5<br/>\n",
    "= 6<br/>\n",
    "\n",
    "V<sub>2</sub>(S<sub>4</sub>) = R(S<sub>4</sub>) + γV<sub>1</sub>(S<sub>4</sub>) <br/>\n",
    "= 2 + (1 × V<sub>1</sub>(S<sub>4</sub>))<br/>\n",
    "​= 2 + 10<br/>\n",
    "= 12<br/>"
   ]
  },
  {
   "cell_type": "markdown",
   "metadata": {},
   "source": [
    "##### Iterations Summary"
   ]
  },
  {
   "cell_type": "markdown",
   "metadata": {},
   "source": [
    "\n",
    "| Iteration | Action | (S₁) Transition | (S₁) Value Function | (S₂) Transition | (S₂) Value Function | (S₃) Transition | (S₃) Value Function | (S₄) Transition | (S₄) Value Function |\n",
    "|-----------|--------|----------------|----------------------|----------------|----------------------|----------------|----------------------|----------------|----------------------|\n",
    "| **0** (initial)    | -      | -              | V<sub>0</sub>(S<sub>1</sub>) = **0**                | -              |V<sub>0</sub>(S<sub>2</sub>) = **0**                | -              | V<sub>0</sub>(S<sub>3</sub>) = **0**                | -              | V<sub>0</sub>(S<sub>4</sub>) = **0**                |\n",
    "| **1**     | Up     | S₁ → S₁        | V<sub>1</sub>(S<sub>1</sub>) = **5**                | S₂ → S₂        |V<sub>1</sub>(S<sub>2</sub>) = **10**               | S₃ → S₁        | V<sub>1</sub>(S<sub>3</sub>) = **1**                | S₄ → S₂        |  V<sub>1</sub>(S<sub>4</sub>) = **2**               |\n",
    "| **2**     | Up     | S₁ → S₁        | V<sub>2</sub>(S<sub>1</sub>) = **10**               | S₂ → S₂        |V<sub>2</sub>(S<sub>2</sub>) =  **20**               | S₃ → S₁        | V<sub>2</sub>(S<sub>3</sub>) = **6**               | S₄ → S₂        |  V<sub>2</sub>(S<sub>4</sub>) = **12**               |\n",
    "\n",
    "\n",
    "\n",
    "- Value is increased with each iteration but agent is not yet convergent towards the optimal values in 2 iterations, so, at this stage, policy improvement should not be done."
   ]
  },
  {
   "cell_type": "markdown",
   "metadata": {},
   "source": [
    "### Problem 3"
   ]
  },
  {
   "attachments": {
    "image.png": {
     "image/png": "[encoded data removed]"
    }
   },
   "cell_type": "markdown",
   "metadata": {},
   "source": [
    "**5x5 Gridworld**<br/>\n",
    "\n",
    "![image.png](attachment:image.png)\n",
    "\n",
    "**States**: \n",
    "states are identified by their row and column, the same as a regular matrix. Ex: the state in row 0 and column 3 is s0,3\n",
    "- **Terminal/Goal state**: The episode ends if the agent reached this state. sGoal = s4,4\n",
    "- **Grey states**: {s2,2, s3,0, s0,4}, these are valid but non-favourable states, as will be seen in the reward function.\n",
    "- **Actions**: a1 = right, a2 = down, a3 = down, a4 = up for all states.\n",
    "- **Transitions**: If an action is valid, the transition is deterministic, otherwise s′ = s\n",
    "- **Rewards R(s)**:\n",
    "R(s) \n",
    "= +10 , s = s4,4\n",
    "= −5  , s ∈ Sgrey = s2,2, s3,0, s0,4\n",
    "= −1  , s ∈ S ̸= s4,4, Sgrey"
   ]
  },
  {
   "cell_type": "markdown",
   "metadata": {},
   "source": [
    "##### Update the reward function to be a list of reward based on whether the state is terminal, grey, or a regular state."
   ]
  },
  {
   "cell_type": "code",
   "execution_count": 1,
   "metadata": {},
   "outputs": [
    {
     "name": "stdout",
     "output_type": "stream",
     "text": [
      "Reward for state (2,2): -5\n",
      "Reward for state (4,4): 10\n",
      "Reward for state (0,0): -1\n"
     ]
    }
   ],
   "source": [
    "from temp.value_iteration import GridWorld\n",
    "ENV_SIZE = 5\n",
    "gridworld = GridWorld(ENV_SIZE)\n",
    "\n",
    "# Validate reward function\n",
    "print(\"Reward for state (2,2):\", gridworld.get_reward(2,2))  # Should print -5\n",
    "print(\"Reward for state (4,4):\", gridworld.get_reward(4,4))  # Should print 10\n",
    "print(\"Reward for state (0,0):\", gridworld.get_reward(0,0))  # Should print -1\n"
   ]
  },
  {
   "cell_type": "markdown",
   "metadata": {},
   "source": [
    "##### Run the existing code developed in class and obtain the optimal state-values and optimal policy. Provide a figures of the gridworld with the obtained V∗ and π∗"
   ]
  },
  {
   "cell_type": "code",
   "execution_count": 2,
   "metadata": {},
   "outputs": [
    {
     "name": "stdout",
     "output_type": "stream",
     "text": [
      "Converged after 8 iterations.\n",
      "Optimal Value Function:\n",
      " [[ 3.  4.  5.  6.  7.]\n",
      " [ 4.  5.  6.  7.  8.]\n",
      " [ 5.  6.  7.  8.  9.]\n",
      " [ 6.  7.  8.  9. 10.]\n",
      " [ 7.  8.  9. 10.  0.]]\n"
     ]
    }
   ],
   "source": [
    "gridworld.value_iteration()\n",
    "\n",
    "# Get the optimal value function\n",
    "print(\"Optimal Value Function:\\n\", gridworld.get_value_function())\n"
   ]
  },
  {
   "cell_type": "code",
   "execution_count": 3,
   "metadata": {},
   "outputs": [
    {
     "name": "stdout",
     "output_type": "stream",
     "text": [
      " →   →   →   ↓   ↓  \n",
      " →   →   →   →   ↓  \n",
      " →   ↓   →   →   ↓  \n",
      " →   →   →   →   ↓  \n",
      " →   →   →   →   T  \n"
     ]
    }
   ],
   "source": [
    "# Get the optimal value policy\n",
    "gridworld.print_policy()"
   ]
  },
  {
   "cell_type": "markdown",
   "metadata": {},
   "source": []
  }
 ],
 "metadata": {
  "kernelspec": {
   "display_name": "venvCSCN8020",
   "language": "python",
   "name": "python3"
  },
  "language_info": {
   "codemirror_mode": {
    "name": "ipython",
    "version": 3
   },
   "file_extension": ".py",
   "mimetype": "text/x-python",
   "name": "python",
   "nbconvert_exporter": "python",
   "pygments_lexer": "ipython3",
   "version": "3.12.6"
  }
 },
 "nbformat": 4,
 "nbformat_minor": 2
}
